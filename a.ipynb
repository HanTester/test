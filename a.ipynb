{
 "metadata": {
  "name": "simple"
 },
 "nbformat": 3,
 "nbformat_minor": 0,
 "worksheets": [
  {
   "cells": [
    {
     "cell_type": "markdown",
     "metadata": {},
     "source": "The simplest notebook."
    },
    {
     "cell_type" : "name",
     "metadata" : {},
     "source" : "<img src=x onerror=x id=x>single string or [list, of, strings]",
   }
   ],
   "metadata": {}
  }
 ]
}
