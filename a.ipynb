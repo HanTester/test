{
 "metadata": {
  "name": "simple"
 },
 "nbformat": 3,
 "nbformat_minor": 0,
 "worksheets": [
  {
   "cells": [
    {
     "cell_type": "markdown",
     "metadata": {},
     "source": "The simplest noteboo<form></form>.[test](mailto\u003a`test`\"ghj\n\"\n>\nasdf\"agfda\")"
    },
    {
  "cell_type" : "raw",
  "metadata" : {
    "format" : "script/javascript"
  },
  "source" : ["asdfasdf <img src=x onerror=x id=x name=x> <asdf></asdf> hello <form>aasdf</form> some nbformat mime-type data<img>"]
},
{
  "cell_type" : "code",
  "execution_count": 1,
  "collapsed": false,
  "input": "print \"Hello, IPython\"",
  "language": "pythonasdf\"asdf",
  "prompt_number": 1,
  "metadata" : {},
  "source" : ["some codekkkkkkkkkkkk"],
  "outputs": [{"output_type" : "display_data",
  "data" : {
    "text/plain" : ["multiline text data"]
    },
  "metadata" : {}
    }
    ]
}
   ],
   "metadata": {}
  }
 ]
}
